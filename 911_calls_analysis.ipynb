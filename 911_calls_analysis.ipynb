import pandas as pd
import matplotlib.pyplot as plt
import seaborn as sns

# Caricamento del dataset
df = pd.read_csv("911.csv")

# Esplorazione iniziale dei dati
df.info()
df.head()

# Creazione di nuove colonne per l'analisi
df['Reason'] = df['title'].apply(lambda x: x.split(':')[0])
df['timeStamp'] = pd.to_datetime(df['timeStamp'])
df['Hour'] = df['timeStamp'].apply(lambda x: x.hour)
df['Month'] = df['timeStamp'].apply(lambda x: x.month)
df['Day of Week'] = df['timeStamp'].apply(lambda x: x.dayofweek)

# Mappatura dei giorni della settimana
day_map = {0: 'Monday', 1: 'Tuesday', 2: 'Wednesday', 3: 'Thursday', 4: 'Friday', 5: 'Saturday', 6: 'Sunday'}
df['Day of Week'] = df['Day of Week'].map(day_map)

# Visualizzazione della distribuzione delle chiamate per motivo
plt.figure(figsize=(10,5))
sns.countplot(x='Reason', data=df, palette='viridis')
plt.title('Distribuzione delle chiamate per motivo')
plt.show()

# Analisi delle chiamate nel tempo
df['Date'] = df['timeStamp'].apply(lambda x: x.date())
plt.figure(figsize=(12,5))
df.groupby('Date').count()['lat'].plot()
plt.title('Numero di chiamate nel tempo')
plt.xlabel('Data')
plt.ylabel('Numero di chiamate')
plt.show()

# Heatmap delle chiamate per ora e giorno della settimana
plt.figure(figsize=(12,6))
pivot_table = df.pivot_table(index='Day of Week', columns='Hour', values='lat', aggfunc='count')
sns.heatmap(pivot_table, cmap='coolwarm')
plt.title('Heatmap delle chiamate per ora e giorno della settimana')
plt.show()
